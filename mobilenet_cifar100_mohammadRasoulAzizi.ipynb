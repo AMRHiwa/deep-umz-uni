{
  "nbformat": 4,
  "nbformat_minor": 0,
  "metadata": {
    "colab": {
      "provenance": []
    },
    "kernelspec": {
      "name": "python3",
      "display_name": "Python 3"
    },
    "language_info": {
      "name": "python"
    }
  },
  "cells": [
    {
      "cell_type": "code",
      "execution_count": null,
      "metadata": {
        "id": "fXdvLuUjsGxV",
        "colab": {
          "base_uri": "https://localhost:8080/"
        },
        "outputId": "e28080ba-e0d4-4d41-cb05-069398f0f961"
      },
      "outputs": [
        {
          "output_type": "stream",
          "name": "stdout",
          "text": [
            "Downloading data from https://www.cs.toronto.edu/~kriz/cifar-100-python.tar.gz\n",
            "169001437/169001437 [==============================] - 2s 0us/step\n",
            "Epoch 1/10\n",
            "1563/1563 [==============================] - 144s 89ms/step - loss: 4.2930 - accuracy: 0.0437 - val_loss: 4.0824 - val_accuracy: 0.0577\n",
            "Epoch 2/10\n",
            "1563/1563 [==============================] - 118s 76ms/step - loss: 3.8928 - accuracy: 0.0892 - val_loss: 3.8708 - val_accuracy: 0.0903\n",
            "Epoch 3/10\n",
            "1563/1563 [==============================] - 117s 75ms/step - loss: 3.7021 - accuracy: 0.1165 - val_loss: 3.8598 - val_accuracy: 0.1007\n",
            "Epoch 4/10\n",
            "1563/1563 [==============================] - 122s 78ms/step - loss: 3.5744 - accuracy: 0.1391 - val_loss: 3.6120 - val_accuracy: 0.1340\n",
            "Epoch 5/10\n",
            "1563/1563 [==============================] - 118s 76ms/step - loss: 3.4811 - accuracy: 0.1528 - val_loss: 3.5707 - val_accuracy: 0.1417\n",
            "Epoch 6/10\n",
            "1563/1563 [==============================] - 129s 83ms/step - loss: 3.4105 - accuracy: 0.1643 - val_loss: 3.5735 - val_accuracy: 0.1439\n",
            "Epoch 7/10\n",
            "1563/1563 [==============================] - 130s 83ms/step - loss: 3.3543 - accuracy: 0.1744 - val_loss: 3.4672 - val_accuracy: 0.1599\n",
            "Epoch 8/10\n",
            " 709/1563 [============>.................] - ETA: 1:07 - loss: 3.3292 - accuracy: 0.1784"
          ]
        }
      ],
      "source": [
        "import tensorflow as tf\n",
        "from tensorflow.keras import layers\n",
        "\n",
        "def MobileNetCIFAR100(input_shape, num_classes, x, n, s):\n",
        "    def bottleneck(x, n, s):\n",
        "        out = layers.Conv2D(n, (1, 1))(x)\n",
        "        out = layers.BatchNormalization()(out)\n",
        "        out = layers.ReLU()(out)\n",
        "        \n",
        "        out = layers.DepthwiseConv2D((3, 3), strides=(s, s), padding='same')(out)\n",
        "        out = layers.BatchNormalization()(out)\n",
        "\n",
        "        out = layers.ReLU()(out)\n",
        "        \n",
        "        out = layers.Conv2D(n, (1, 1))(out)\n",
        "        out = layers.BatchNormalization()(out)\n",
        "        out = layers.ReLU()(out)\n",
        "        \n",
        "        return out\n",
        "\n",
        "    inputs = layers.Input(shape=input_shape)\n",
        "    x = layers.Conv2D(32, (3, 3), strides=(2, 2), padding='same')(inputs)\n",
        "    x = layers.BatchNormalization()(x)\n",
        "    x = layers.ReLU()(x)\n",
        "\n",
        "    x = bottleneck(x, n, s)\n",
        "    x = bottleneck(x, n, s)\n",
        "    x = bottleneck(x, n, s)\n",
        "    x = bottleneck(x, n, s)\n",
        "\n",
        "    x = layers.Conv2D(num_classes, (1, 1))(x)\n",
        "    x = layers.GlobalAveragePooling2D()(x)\n",
        "    outputs = layers.Activation('softmax')(x)\n",
        "\n",
        "    model = tf.keras.Model(inputs, outputs)\n",
        "\n",
        "    return model\n",
        "\n",
        "(x_train, y_train), (x_test, y_test) = tf.keras.datasets.cifar100.load_data()\n",
        "\n",
        "x_train = x_train.astype('float32') / 255.0\n",
        "x_test = x_test.astype('float32') / 255.0\n",
        "\n",
        "y_train = tf.keras.utils.to_categorical(y_train, num_classes=100)\n",
        "y_test = tf.keras.utils.to_categorical(y_test, num_classes=100)\n",
        "\n",
        "input_shape = x_train[0].shape\n",
        "num_classes = 100\n",
        "x = x_train[0]\n",
        "n = 16\n",
        "s = 1\n",
        "\n",
        "train_dataset = tf.data.Dataset.from_tensor_slices((x_train, y_train)).shuffle(10000).batch(32)\n",
        "test_dataset = tf.data.Dataset.from_tensor_slices((x_test, y_test)).batch(32)\n",
        "\n",
        "model = MobileNetCIFAR100(input_shape, num_classes, x, n, s)\n",
        "\n",
        "model.compile(optimizer=tf.keras.optimizers.Adam(),\n",
        "loss=tf.keras.losses.CategoricalCrossentropy(),\n",
        "metrics=['accuracy'])\n",
        "\n",
        "model.fit(train_dataset, epochs=10, validation_data=test_dataset)"
      ]
    }
  ]
}